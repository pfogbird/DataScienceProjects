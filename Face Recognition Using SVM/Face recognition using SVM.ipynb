{
 "cells": [
  {
   "cell_type": "markdown",
   "metadata": {},
   "source": [
    "# Face Recognition using SVM\n",
    "\n",
    "# Part A:\n",
    "\n",
    "## The\tOivetti\tdatabase contains\tface images\tfrom\tAT&T\tresearch\tlab.\tIt\tincludes 400\tfaces\t(64x64\tpixels)\tfrom\t40\tpeople\t(10\timages\tper\tperson). There is a csv\tfile\tthat\tincludes the\tlabels\tof\tthe\timages\t(the\tlabel\tis\tperson’s\tID).\tThe\tgoal\tis\tto\tbuild\ta\tFace\tRecognition\talgorithm\tto\trecognize\teach\tperson\tusing\tPCA\tdimensionality\treduction\tand\ta\tnon-linear\tSVM.\t\n",
    "\n",
    "# Part B:\n",
    "\n",
    "## I built the\tfeature\tmatrix\tand\tlabel\tvector:\tEach\timage\tis\tconsidered\tas\ta\tdata\tsample\twith pixels\tas\tfeatures.\tThus,\tto\tbuild\tthe\tfeature\ttable\tI\thave\tto\tconvert\teach\t64x64\timage into\ta row\tof\tthe\tfeature\tmatrix\twith\t4096\tcolumns."
   ]
  },
  {
   "cell_type": "code",
   "execution_count": 90,
   "metadata": {
    "collapsed": true
   },
   "outputs": [],
   "source": [
    "%matplotlib inline\n",
    "\n",
    "from sklearn.neural_network import MLPClassifier\n",
    "\n",
    "from sklearn.model_selection import train_test_split\n",
    "from sklearn.model_selection import cross_val_score\n",
    "from sklearn.model_selection import GridSearchCV\n",
    "from sklearn import preprocessing\n",
    "from sklearn.metrics import accuracy_score\n",
    "from sklearn import metrics\n",
    "from sklearn.decomposition import PCA\n",
    "from sklearn.svm import SVC\n",
    "import matplotlib.image as mpimg\n",
    "import matplotlib.pyplot as plt\n",
    "import numpy as np\n",
    "import pandas as pd\n",
    "\n"
   ]
  },
  {
   "cell_type": "code",
   "execution_count": 91,
   "metadata": {
    "collapsed": false
   },
   "outputs": [
    {
     "data": {
      "text/html": [
       "<div>\n",
       "<table border=\"1\" class=\"dataframe\">\n",
       "  <thead>\n",
       "    <tr style=\"text-align: right;\">\n",
       "      <th></th>\n",
       "      <th>Label</th>\n",
       "    </tr>\n",
       "  </thead>\n",
       "  <tbody>\n",
       "    <tr>\n",
       "      <th>0</th>\n",
       "      <td>13</td>\n",
       "    </tr>\n",
       "    <tr>\n",
       "      <th>1</th>\n",
       "      <td>30</td>\n",
       "    </tr>\n",
       "    <tr>\n",
       "      <th>2</th>\n",
       "      <td>34</td>\n",
       "    </tr>\n",
       "    <tr>\n",
       "      <th>3</th>\n",
       "      <td>19</td>\n",
       "    </tr>\n",
       "    <tr>\n",
       "      <th>4</th>\n",
       "      <td>24</td>\n",
       "    </tr>\n",
       "  </tbody>\n",
       "</table>\n",
       "</div>"
      ],
      "text/plain": [
       "   Label\n",
       "0     13\n",
       "1     30\n",
       "2     34\n",
       "3     19\n",
       "4     24"
      ]
     },
     "execution_count": 91,
     "metadata": {},
     "output_type": "execute_result"
    },
    {
     "data": {
      "image/png": "[encoded data removed]",
      "text/plain": [
       "<matplotlib.figure.Figure at 0x7f03a484b2e8>"
      ]
     },
     "metadata": {},
     "output_type": "display_data"
    }
   ],
   "source": [
    "\n",
    "img_matrix = []\n",
    "\n",
    "for i in range(0, 400):\n",
    "    fileName = 'Face/'+str(i)+'.jpg'\n",
    "    img_matrix.append(mpimg.imread(fileName).ravel())\n",
    "    plt.imshow(mpimg.imread(fileName), cmap=plt.cm.gray)\n",
    "\n",
    "    \n",
    "id_df = pd.read_csv('Face/label.csv')\n",
    "id_df.head()"
   ]
  },
  {
   "cell_type": "markdown",
   "metadata": {},
   "source": [
    "# Part C:\n",
    "\n",
    "## Normalize each column\tof\tthe feature matrix."
   ]
  },
  {
   "cell_type": "code",
   "execution_count": 92,
   "metadata": {
    "collapsed": false
   },
   "outputs": [],
   "source": [
    "img_df = pd.DataFrame(data=img_matrix)\n",
    "\n",
    "X = img_df[img_df.columns]\n",
    "y = id_df['Label']\n",
    "\n",
    "X_norm = preprocessing.scale(X)"
   ]
  },
  {
   "cell_type": "code",
   "execution_count": null,
   "metadata": {
    "collapsed": true
   },
   "outputs": [],
   "source": []
  },
  {
   "cell_type": "markdown",
   "metadata": {},
   "source": [
    "# Part D: \n",
    "\n",
    "## Using\tsklearn\tfunctions\tto\tsplit\tthe\tNormalized\tdataset\tinto\ttesting\tand\ttraining\tsets\twith the following\tparameters:\ttest_size=0.25,\trandom_state=5."
   ]
  },
  {
   "cell_type": "code",
   "execution_count": 93,
   "metadata": {
    "collapsed": false
   },
   "outputs": [],
   "source": [
    "X_train, X_test, y_train, y_test = train_test_split(X_norm, id_df, test_size=0.25, random_state=5)"
   ]
  },
  {
   "cell_type": "code",
   "execution_count": 94,
   "metadata": {
    "collapsed": false
   },
   "outputs": [
    {
     "name": "stdout",
     "output_type": "stream",
     "text": [
      "(300, 4096)\n",
      "(300, 1)\n",
      "(100, 4096)\n",
      "(100, 1)\n"
     ]
    }
   ],
   "source": [
    "print(X_train.shape)\n",
    "print(y_train.shape)\n",
    "\n",
    "\n",
    "print(X_test.shape)\n",
    "print(y_test.shape)"
   ]
  },
  {
   "cell_type": "markdown",
   "metadata": {},
   "source": [
    "# Part E:\n",
    "\n",
    "## The\tdimensionality\tof\tthe\tdata\tsamples\tis\t4096.\tI use PCA\tto\treduce\tthe\tdimensionality\tfrom 4096 to\t 50\t (only\t 50\t principal\t components!).\t I need\t to\t “fit”\t my\t PCA\t on\t the\ttraining\tset\tonly,\tand\tthen\tuse\tthis\tfitted\tmodel\tto\t“transform”\tboth\ttraining\tand\ttesting\tsets\t(When\tthis is\tfinished,\tthe\tnumber\tof\tcolumns\tin\tthe\ttesting\tand\ttraining sets should\tbe\t50).\t"
   ]
  },
  {
   "cell_type": "code",
   "execution_count": 99,
   "metadata": {
    "collapsed": true
   },
   "outputs": [],
   "source": [
    "my_PCA = PCA(n_components=50)\n",
    "\n",
    "my_PCA.fit(X_train)\n",
    "my_PCA.fit(X_test)\n",
    "\n",
    "train_pca = my_PCA.transform(X_train)\n",
    "test_pca = my_PCA.transform(X_test)"
   ]
  },
  {
   "cell_type": "code",
   "execution_count": null,
   "metadata": {
    "collapsed": true
   },
   "outputs": [],
   "source": []
  },
  {
   "cell_type": "markdown",
   "metadata": {},
   "source": [
    "# Part F:\n",
    "\n",
    "## I will design\tand\tTrain\ta\tnon-linear\tSVM\tclassifier\tto\trecognize\tthe\tface\tbased\ton\tthe\ttraining\tdataset\t that\t you\t built\t in\t part\t (e).\tI will also calculate\tand\treport\tthe\tConfusion\tMatrix.\t\t"
   ]
  },
  {
   "cell_type": "code",
   "execution_count": 100,
   "metadata": {
    "collapsed": false
   },
   "outputs": [
    {
     "name": "stdout",
     "output_type": "stream",
     "text": [
      "0.91\n"
     ]
    },
    {
     "name": "stderr",
     "output_type": "stream",
     "text": [
      "/home/me/anaconda3/lib/python3.5/site-packages/sklearn/utils/validation.py:526: DataConversionWarning: A column-vector y was passed when a 1d array was expected. Please change the shape of y to (n_samples, ), for example using ravel().\n",
      "  y = column_or_1d(y, warn=True)\n"
     ]
    }
   ],
   "source": [
    "my_SVC = SVC(C=1, kernel='rbf', gamma=0.0005, random_state=1)\n",
    "my_SVC.fit(train_pca, y_train)\n",
    "\n",
    "y_predict_svm = my_SVC.predict(test_pca)\n",
    "score_svm = accuracy_score(y_test, y_predict_svm)\n",
    "print(score_svm)"
   ]
  },
  {
   "cell_type": "code",
   "execution_count": 105,
   "metadata": {
    "collapsed": false
   },
   "outputs": [
    {
     "name": "stdout",
     "output_type": "stream",
     "text": [
      "Confusion Matrix\n",
      "[[3 0 0 ..., 0 0 0]\n",
      " [0 3 0 ..., 0 0 0]\n",
      " [0 0 1 ..., 0 0 0]\n",
      " ..., \n",
      " [0 0 0 ..., 5 0 0]\n",
      " [0 0 0 ..., 0 4 0]\n",
      " [0 0 0 ..., 0 0 1]]\n"
     ]
    }
   ],
   "source": [
    "cm_SVM = metrics.confusion_matrix(y_test, y_predict_svm)\n",
    "print('Confusion Matrix')\n",
    "print(cm_SVM)\n",
    "\n",
    "train_pca_df = pd.DataFrame(train_pca)\n",
    "test_pca_df = pd.DataFrame(test_pca)\n"
   ]
  },
  {
   "cell_type": "markdown",
   "metadata": {},
   "source": [
    "# Part G:\n",
    "\n",
    "## Now,\tI will use\tGridSearchCV\tto\tfind\tthe\tbest\tvalue\tfor\tparameter\tC.\tSearch\tin\tthis\tlist:\t[0.1,\t1,\t10,\t100,\t1e3,\t5e3,\t1e4,\t5e4,\t1e5].\t"
   ]
  },
  {
   "cell_type": "code",
   "execution_count": 102,
   "metadata": {
    "collapsed": true
   },
   "outputs": [],
   "source": [
    "#Merging X_train, X_test together and y_train, y_test together\n",
    "\n",
    "merged_X = test_pca_df.append(train_pca_df)\n",
    "merged_y = pd.concat([y_test, y_train])['Label']"
   ]
  },
  {
   "cell_type": "code",
   "execution_count": 103,
   "metadata": {
    "collapsed": false
   },
   "outputs": [
    {
     "name": "stdout",
     "output_type": "stream",
     "text": [
      "0.9625\n",
      "{'C': 1}\n"
     ]
    }
   ],
   "source": [
    "param_grid = dict(C=[0.1, 1, 10, 100, 1e3, 5e3, 1e4, 5e4, 1e5])\n",
    "my_SVM = SVC(kernel='rbf', gamma=0.0005, random_state=1)\n",
    "\n",
    "my_Grid = GridSearchCV(my_SVM, param_grid, cv = 10, scoring='accuracy')\n",
    "my_Grid.fit(merged_X, merged_y)\n",
    "\n",
    "print(my_Grid.best_score_)\n",
    "print(my_Grid.best_params_)"
   ]
  },
  {
   "cell_type": "code",
   "execution_count": null,
   "metadata": {
    "collapsed": true
   },
   "outputs": [],
   "source": []
  }
 ],
 "metadata": {
  "anaconda-cloud": {},
  "kernelspec": {
   "display_name": "Python [conda root]",
   "language": "python",
   "name": "conda-root-py"
  },
  "language_info": {
   "codemirror_mode": {
    "name": "ipython",
    "version": 3
   },
   "file_extension": ".py",
   "mimetype": "text/x-python",
   "name": "python",
   "nbconvert_exporter": "python",
   "pygments_lexer": "ipython3",
   "version": "3.5.2"
  }
 },
 "nbformat": 4,
 "nbformat_minor": 1
}
