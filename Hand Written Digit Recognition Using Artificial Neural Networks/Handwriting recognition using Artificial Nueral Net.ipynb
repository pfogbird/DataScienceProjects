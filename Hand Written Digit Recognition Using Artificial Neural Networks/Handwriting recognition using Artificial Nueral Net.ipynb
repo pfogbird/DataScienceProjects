{
 "cells": [
  {
   "cell_type": "markdown",
   "metadata": {},
   "source": [
    "# Handwriting Recognition Using ANN:\n",
    "\n",
    "## The dataset includes 1797 small images (8x8 pixels), each one includes a hand-written digit (0-9). There is a corresponding csv file that includes the labels of the images. The goal is to build an Artificial Neural Network that can recognize the hand-written digits."
   ]
  },
  {
   "cell_type": "code",
   "execution_count": 8,
   "metadata": {
    "collapsed": true
   },
   "outputs": [],
   "source": [
    "%matplotlib inline\n",
    "\n",
    "from sklearn.neural_network import MLPClassifier\n",
    "\n",
    "from sklearn.model_selection import train_test_split\n",
    "from sklearn.model_selection import cross_val_score\n",
    "from sklearn.model_selection import GridSearchCV\n",
    "from sklearn import preprocessing\n",
    "from sklearn.metrics import accuracy_score\n",
    "from sklearn import metrics\n",
    "from sklearn.decomposition import PCA\n",
    "from sklearn.svm import SVC\n",
    "import matplotlib.image as mpimg\n",
    "import matplotlib.pyplot as plt\n",
    "import numpy as np\n",
    "import pandas as pd\n",
    "\n",
    "\n"
   ]
  },
  {
   "cell_type": "markdown",
   "metadata": {},
   "source": [
    "# I will build\tthe\tfeature\tmatrix\tand\tlabel\tvector: Each\timage\tis considered\tas\ta\tdata\tsample with\tpixels\tas\tfeatures.\tThus,\tto\tbuild\tthe\tfeature\ttable\tI\thave\tto\tconvert\teach\t8x8\timage into\ta\trow\tof\tthe\tfeature\tmatrix\twith\t64\tfeature\tcolumns for 64\tpixels."
   ]
  },
  {
   "cell_type": "code",
   "execution_count": 9,
   "metadata": {
    "collapsed": false
   },
   "outputs": [],
   "source": [
    "labels = pd.read_csv('label.csv')"
   ]
  },
  {
   "cell_type": "code",
   "execution_count": 12,
   "metadata": {
    "collapsed": false
   },
   "outputs": [
    {
     "data": {
      "text/html": [
       "<div>\n",
       "<table border=\"1\" class=\"dataframe\">\n",
       "  <thead>\n",
       "    <tr style=\"text-align: right;\">\n",
       "      <th></th>\n",
       "      <th>0</th>\n",
       "      <th>1</th>\n",
       "      <th>2</th>\n",
       "      <th>3</th>\n",
       "      <th>4</th>\n",
       "      <th>5</th>\n",
       "      <th>6</th>\n",
       "      <th>7</th>\n",
       "      <th>8</th>\n",
       "      <th>9</th>\n",
       "      <th>...</th>\n",
       "      <th>55</th>\n",
       "      <th>56</th>\n",
       "      <th>57</th>\n",
       "      <th>58</th>\n",
       "      <th>59</th>\n",
       "      <th>60</th>\n",
       "      <th>61</th>\n",
       "      <th>62</th>\n",
       "      <th>63</th>\n",
       "      <th>label</th>\n",
       "    </tr>\n",
       "  </thead>\n",
       "  <tbody>\n",
       "    <tr>\n",
       "      <th>0</th>\n",
       "      <td>0.0</td>\n",
       "      <td>2.0</td>\n",
       "      <td>88.0</td>\n",
       "      <td>217.0</td>\n",
       "      <td>158.0</td>\n",
       "      <td>21.0</td>\n",
       "      <td>0.0</td>\n",
       "      <td>0.0</td>\n",
       "      <td>16.0</td>\n",
       "      <td>0.0</td>\n",
       "      <td>...</td>\n",
       "      <td>0.0</td>\n",
       "      <td>4.0</td>\n",
       "      <td>3.0</td>\n",
       "      <td>87.0</td>\n",
       "      <td>228.0</td>\n",
       "      <td>182.0</td>\n",
       "      <td>0.0</td>\n",
       "      <td>9.0</td>\n",
       "      <td>2.0</td>\n",
       "      <td>0.0</td>\n",
       "    </tr>\n",
       "    <tr>\n",
       "      <th>1</th>\n",
       "      <td>0.0</td>\n",
       "      <td>0.0</td>\n",
       "      <td>11.0</td>\n",
       "      <td>187.0</td>\n",
       "      <td>210.0</td>\n",
       "      <td>78.0</td>\n",
       "      <td>5.0</td>\n",
       "      <td>0.0</td>\n",
       "      <td>13.0</td>\n",
       "      <td>5.0</td>\n",
       "      <td>...</td>\n",
       "      <td>0.0</td>\n",
       "      <td>0.0</td>\n",
       "      <td>0.0</td>\n",
       "      <td>0.0</td>\n",
       "      <td>172.0</td>\n",
       "      <td>251.0</td>\n",
       "      <td>157.0</td>\n",
       "      <td>0.0</td>\n",
       "      <td>12.0</td>\n",
       "      <td>1.0</td>\n",
       "    </tr>\n",
       "    <tr>\n",
       "      <th>2</th>\n",
       "      <td>0.0</td>\n",
       "      <td>0.0</td>\n",
       "      <td>5.0</td>\n",
       "      <td>59.0</td>\n",
       "      <td>240.0</td>\n",
       "      <td>199.0</td>\n",
       "      <td>2.0</td>\n",
       "      <td>0.0</td>\n",
       "      <td>5.0</td>\n",
       "      <td>0.0</td>\n",
       "      <td>...</td>\n",
       "      <td>0.0</td>\n",
       "      <td>0.0</td>\n",
       "      <td>11.0</td>\n",
       "      <td>0.0</td>\n",
       "      <td>54.0</td>\n",
       "      <td>173.0</td>\n",
       "      <td>255.0</td>\n",
       "      <td>138.0</td>\n",
       "      <td>0.0</td>\n",
       "      <td>2.0</td>\n",
       "    </tr>\n",
       "    <tr>\n",
       "      <th>3</th>\n",
       "      <td>6.0</td>\n",
       "      <td>0.0</td>\n",
       "      <td>108.0</td>\n",
       "      <td>255.0</td>\n",
       "      <td>213.0</td>\n",
       "      <td>13.0</td>\n",
       "      <td>10.0</td>\n",
       "      <td>0.0</td>\n",
       "      <td>2.0</td>\n",
       "      <td>131.0</td>\n",
       "      <td>...</td>\n",
       "      <td>1.0</td>\n",
       "      <td>0.0</td>\n",
       "      <td>0.0</td>\n",
       "      <td>118.0</td>\n",
       "      <td>217.0</td>\n",
       "      <td>226.0</td>\n",
       "      <td>159.0</td>\n",
       "      <td>0.0</td>\n",
       "      <td>3.0</td>\n",
       "      <td>3.0</td>\n",
       "    </tr>\n",
       "    <tr>\n",
       "      <th>4</th>\n",
       "      <td>0.0</td>\n",
       "      <td>6.0</td>\n",
       "      <td>0.0</td>\n",
       "      <td>34.0</td>\n",
       "      <td>160.0</td>\n",
       "      <td>7.0</td>\n",
       "      <td>7.0</td>\n",
       "      <td>0.0</td>\n",
       "      <td>5.0</td>\n",
       "      <td>0.0</td>\n",
       "      <td>...</td>\n",
       "      <td>0.0</td>\n",
       "      <td>0.0</td>\n",
       "      <td>0.0</td>\n",
       "      <td>2.0</td>\n",
       "      <td>42.0</td>\n",
       "      <td>250.0</td>\n",
       "      <td>51.0</td>\n",
       "      <td>0.0</td>\n",
       "      <td>4.0</td>\n",
       "      <td>4.0</td>\n",
       "    </tr>\n",
       "  </tbody>\n",
       "</table>\n",
       "<p>5 rows × 65 columns</p>\n",
       "</div>"
      ],
      "text/plain": [
       "     0    1      2      3      4      5     6    7     8      9  ...     55  \\\n",
       "0  0.0  2.0   88.0  217.0  158.0   21.0   0.0  0.0  16.0    0.0  ...    0.0   \n",
       "1  0.0  0.0   11.0  187.0  210.0   78.0   5.0  0.0  13.0    5.0  ...    0.0   \n",
       "2  0.0  0.0    5.0   59.0  240.0  199.0   2.0  0.0   5.0    0.0  ...    0.0   \n",
       "3  6.0  0.0  108.0  255.0  213.0   13.0  10.0  0.0   2.0  131.0  ...    1.0   \n",
       "4  0.0  6.0    0.0   34.0  160.0    7.0   7.0  0.0   5.0    0.0  ...    0.0   \n",
       "\n",
       "    56    57     58     59     60     61     62    63  label  \n",
       "0  4.0   3.0   87.0  228.0  182.0    0.0    9.0   2.0    0.0  \n",
       "1  0.0   0.0    0.0  172.0  251.0  157.0    0.0  12.0    1.0  \n",
       "2  0.0  11.0    0.0   54.0  173.0  255.0  138.0   0.0    2.0  \n",
       "3  0.0   0.0  118.0  217.0  226.0  159.0    0.0   3.0    3.0  \n",
       "4  0.0   0.0    2.0   42.0  250.0   51.0    0.0   4.0    4.0  \n",
       "\n",
       "[5 rows x 65 columns]"
      ]
     },
     "execution_count": 12,
     "metadata": {},
     "output_type": "execute_result"
    }
   ],
   "source": [
    "dfCols = np.append(np.arange(64), 'label')\n",
    "\n",
    "df = pd.DataFrame(columns=dfCols)\n",
    "pathToImage = 'Digit/'\n",
    "for i in range(1797):\n",
    "    img = mpimg.imread(pathToImage + str(i) + '.jpg')\n",
    "    \n",
    "    label = labels.get_value(i, 'digit')\n",
    "    img = np.append(img, label)\n",
    "    \n",
    "    new_df = pd.DataFrame(img).transpose()\n",
    "    new_df.columns = dfCols\n",
    "    \n",
    "    df = pd.concat([df, new_df])\n",
    "    \n",
    "    \n",
    "df.reset_index(inplace=True)\n",
    "df.drop(['index'], 1, inplace=True)\n",
    "df.head()"
   ]
  },
  {
   "cell_type": "code",
   "execution_count": 13,
   "metadata": {
    "collapsed": false
   },
   "outputs": [],
   "source": [
    "X = df.drop('label', 1)\n",
    "y = df['label']"
   ]
  },
  {
   "cell_type": "markdown",
   "metadata": {},
   "source": [
    "# I  will use\tsklearn\tfunctions\tto\tsplit the\tdataset\tinto\ttesting\tand\ttraining sets\twith\tthe\tfollowing\tparameters:\ttest_size=0.1,\trandom_state=2"
   ]
  },
  {
   "cell_type": "code",
   "execution_count": 15,
   "metadata": {
    "collapsed": false
   },
   "outputs": [],
   "source": [
    "X_train, X_test, y_train, y_test = train_test_split(X, y, test_size=0.1, random_state=2)"
   ]
  },
  {
   "cell_type": "markdown",
   "metadata": {},
   "source": [
    "# I will design\tand\ttrain\tan\tANN\twith\tone\thidden\tlayer\twith 80 neurons to\trecognize\tthe\tdigits based\t on\t the\t training dataset\t that\t you\t I built. I will use random_state=1, learning_rate_init\t =\t 0.002. Then, I will test\t your\t ANN\t on\t testing\t set,\t and\tcalculate\tand\treport\tthe\taccuracy. Also,\tI will calculate\tand\treport\tthe\tConfusion\tMatrix."
   ]
  },
  {
   "cell_type": "code",
   "execution_count": 16,
   "metadata": {
    "collapsed": false
   },
   "outputs": [
    {
     "data": {
      "text/plain": [
       "MLPClassifier(activation='logistic', alpha=1e-05, batch_size='auto',\n",
       "       beta_1=0.9, beta_2=0.999, early_stopping=False, epsilon=1e-08,\n",
       "       hidden_layer_sizes=(80,), learning_rate='constant',\n",
       "       learning_rate_init=0.002, max_iter=200, momentum=0.9,\n",
       "       nesterovs_momentum=True, power_t=0.5, random_state=1, shuffle=True,\n",
       "       solver='adam', tol=0.0001, validation_fraction=0.1, verbose=False,\n",
       "       warm_start=False)"
      ]
     },
     "execution_count": 16,
     "metadata": {},
     "output_type": "execute_result"
    }
   ],
   "source": [
    "my_ANN = MLPClassifier(hidden_layer_sizes=(80,), activation= 'logistic', \n",
    "                       solver='adam', alpha=1e-5, random_state=1, \n",
    "                       learning_rate_init = 0.002)\n",
    "\n",
    "\n",
    "# Fit ANN\n",
    "my_ANN.fit(X_train, y_train)"
   ]
  },
  {
   "cell_type": "code",
   "execution_count": 17,
   "metadata": {
    "collapsed": false
   },
   "outputs": [
    {
     "name": "stdout",
     "output_type": "stream",
     "text": [
      "[4. 0. 9. 1. 8. 7. 1. 5. 1. 6. 6. 7. 6. 1. 5. 5. 8. 6. 2. 7. 4. 6. 4. 1.\n",
      " 5. 2. 9. 5. 4. 6. 5. 6. 3. 4. 0. 9. 9. 8. 4. 6. 8. 8. 5. 7. 9. 6. 9. 6.\n",
      " 1. 3. 0. 1. 9. 7. 3. 3. 1. 1. 8. 8. 9. 8. 5. 8. 7. 8. 7. 5. 8. 4. 3. 9.\n",
      " 3. 8. 7. 3. 3. 0. 8. 7. 2. 8. 5. 3. 8. 7. 6. 4. 6. 2. 2. 0. 1. 1. 5. 3.\n",
      " 5. 7. 1. 8. 2. 2. 6. 4. 6. 7. 3. 7. 3. 9. 4. 7. 0. 3. 5. 1. 5. 0. 3. 9.\n",
      " 2. 7. 3. 2. 0. 8. 1. 9. 2. 1. 5. 9. 0. 3. 4. 3. 0. 8. 3. 2. 2. 7. 3. 1.\n",
      " 6. 7. 2. 8. 3. 1. 1. 6. 4. 8. 2. 1. 8. 4. 1. 3. 1. 1. 9. 5. 4. 8. 7. 4.\n",
      " 8. 9. 5. 7. 6. 9. 4. 0. 4. 0. 0. 9.]\n"
     ]
    }
   ],
   "source": [
    "y_predict_ann = my_ANN.predict(X_test)\n",
    "print(y_predict_ann)"
   ]
  },
  {
   "cell_type": "code",
   "execution_count": 18,
   "metadata": {
    "collapsed": false
   },
   "outputs": [
    {
     "name": "stdout",
     "output_type": "stream",
     "text": [
      "0.9222222222222223\n"
     ]
    }
   ],
   "source": [
    "score_ann = accuracy_score(y_test, y_predict_ann)\n",
    "print(score_ann)"
   ]
  },
  {
   "cell_type": "code",
   "execution_count": 19,
   "metadata": {
    "collapsed": false
   },
   "outputs": [
    {
     "name": "stdout",
     "output_type": "stream",
     "text": [
      "Confusion matrix:\n",
      "[[13  0  0  0  1  0  0  0  0  0]\n",
      " [ 0 20  0  0  0  0  0  0  0  2]\n",
      " [ 0  0 14  0  0  0  0  0  0  0]\n",
      " [ 0  0  0 21  0  0  0  1  0  0]\n",
      " [ 0  0  0  0 16  0  0  1  3  1]\n",
      " [ 0  0  0  0  0 16  0  0  0  0]\n",
      " [ 0  1  0  0  0  0 17  0  0  0]\n",
      " [ 0  0  0  0  0  0  0 17  1  0]\n",
      " [ 0  1  0  0  0  0  0  0 18  0]\n",
      " [ 0  0  0  0  0  1  0  0  1 14]]\n"
     ]
    }
   ],
   "source": [
    "cm_ANN = metrics.confusion_matrix(y_test, y_predict_ann)\n",
    "print(\"Confusion matrix:\")\n",
    "print(cm_ANN)"
   ]
  },
  {
   "cell_type": "markdown",
   "metadata": {},
   "source": [
    "# I will find\texactly\twhich\tone\tof\tthe\tdata\tsamples\thave\tbeen misclassified\t(classified\tincorrectly) in\tmy\ttesting\tset."
   ]
  },
  {
   "cell_type": "code",
   "execution_count": 20,
   "metadata": {
    "collapsed": false
   },
   "outputs": [
    {
     "name": "stdout",
     "output_type": "stream",
     "text": [
      "Predicted: 8.0\n",
      "Actual: 4.0\n"
     ]
    },
    {
     "data": {
      "image/png": "[encoded data removed]",
      "text/plain": [
       "<matplotlib.figure.Figure at 0x27a5eaba5f8>"
      ]
     },
     "metadata": {},
     "output_type": "display_data"
    },
    {
     "name": "stdout",
     "output_type": "stream",
     "text": [
      "Predicted: 8.0\n",
      "Actual: 4.0\n"
     ]
    },
    {
     "data": {
      "image/png": "[encoded data removed]",
      "text/plain": [
       "<matplotlib.figure.Figure at 0x27a5eb6a0f0>"
      ]
     },
     "metadata": {},
     "output_type": "display_data"
    },
    {
     "name": "stdout",
     "output_type": "stream",
     "text": [
      "Predicted: 8.0\n",
      "Actual: 4.0\n"
     ]
    },
    {
     "data": {
      "image/png": "[encoded data removed]",
      "text/plain": [
       "<matplotlib.figure.Figure at 0x27a5eb5cb38>"
      ]
     },
     "metadata": {},
     "output_type": "display_data"
    },
    {
     "name": "stdout",
     "output_type": "stream",
     "text": [
      "Predicted: 7.0\n",
      "Actual: 4.0\n"
     ]
    },
    {
     "data": {
      "image/png": "[encoded data removed]",
      "text/plain": [
       "<matplotlib.figure.Figure at 0x27a5fc88fd0>"
      ]
     },
     "metadata": {},
     "output_type": "display_data"
    },
    {
     "name": "stdout",
     "output_type": "stream",
     "text": [
      "Predicted: 8.0\n",
      "Actual: 7.0\n"
     ]
    },
    {
     "data": {
      "image/png": "[encoded data removed]",
      "text/plain": [
       "<matplotlib.figure.Figure at 0x27a5fce8ac8>"
      ]
     },
     "metadata": {},
     "output_type": "display_data"
    },
    {
     "name": "stdout",
     "output_type": "stream",
     "text": [
      "Predicted: 7.0\n",
      "Actual: 3.0\n"
     ]
    },
    {
     "data": {
      "image/png": "[encoded data removed]",
      "text/plain": [
       "<matplotlib.figure.Figure at 0x27a5fd58f28>"
      ]
     },
     "metadata": {},
     "output_type": "display_data"
    },
    {
     "name": "stdout",
     "output_type": "stream",
     "text": [
      "Predicted: 9.0\n",
      "Actual: 1.0\n"
     ]
    },
    {
     "data": {
      "image/png": "[encoded data removed]",
      "text/plain": [
       "<matplotlib.figure.Figure at 0x27a5eb72d68>"
      ]
     },
     "metadata": {},
     "output_type": "display_data"
    },
    {
     "name": "stdout",
     "output_type": "stream",
     "text": [
      "Predicted: 1.0\n",
      "Actual: 6.0\n"
     ]
    },
    {
     "data": {
      "image/png": "[encoded data removed]",
      "text/plain": [
       "<matplotlib.figure.Figure at 0x27a5fe07ac8>"
      ]
     },
     "metadata": {},
     "output_type": "display_data"
    },
    {
     "name": "stdout",
     "output_type": "stream",
     "text": [
      "Predicted: 1.0\n",
      "Actual: 8.0\n"
     ]
    },
    {
     "data": {
      "image/png": "[encoded data removed]",
      "text/plain": [
       "<matplotlib.figure.Figure at 0x27a5fdbc208>"
      ]
     },
     "metadata": {},
     "output_type": "display_data"
    },
    {
     "name": "stdout",
     "output_type": "stream",
     "text": [
      "Predicted: 5.0\n",
      "Actual: 9.0\n"
     ]
    },
    {
     "data": {
      "image/png": "[encoded data removed]",
      "text/plain": [
       "<matplotlib.figure.Figure at 0x27a5fed2e80>"
      ]
     },
     "metadata": {},
     "output_type": "display_data"
    },
    {
     "name": "stdout",
     "output_type": "stream",
     "text": [
      "Predicted: 9.0\n",
      "Actual: 1.0\n"
     ]
    },
    {
     "data": {
      "image/png": "[encoded data removed]",
      "text/plain": [
       "<matplotlib.figure.Figure at 0x27a5fe7b438>"
      ]
     },
     "metadata": {},
     "output_type": "display_data"
    },
    {
     "name": "stdout",
     "output_type": "stream",
     "text": [
      "Predicted: 8.0\n",
      "Actual: 9.0\n"
     ]
    },
    {
     "data": {
      "image/png": "[encoded data removed]",
      "text/plain": [
       "<matplotlib.figure.Figure at 0x27a5fe7bc50>"
      ]
     },
     "metadata": {},
     "output_type": "display_data"
    },
    {
     "name": "stdout",
     "output_type": "stream",
     "text": [
      "Predicted: 4.0\n",
      "Actual: 0.0\n"
     ]
    },
    {
     "data": {
      "image/png": "[encoded data removed]",
      "text/plain": [
       "<matplotlib.figure.Figure at 0x27a5eb32048>"
      ]
     },
     "metadata": {},
     "output_type": "display_data"
    },
    {
     "name": "stdout",
     "output_type": "stream",
     "text": [
      "Predicted: 9.0\n",
      "Actual: 4.0\n"
     ]
    },
    {
     "data": {
      "image/png": "[encoded data removed]",
      "text/plain": [
       "<matplotlib.figure.Figure at 0x27a5fe8f828>"
      ]
     },
     "metadata": {},
     "output_type": "display_data"
    }
   ],
   "source": [
    "d = {'y_test' : y_test, 'y_predict_ann' : y_predict_ann}\n",
    "allPredictions = pd.DataFrame(d, index=y_test.index, )\n",
    "\n",
    "errors = allPredictions[allPredictions.y_test != allPredictions.y_predict_ann]\n",
    "\n",
    "for index, row in errors.iterrows():\n",
    "    img = mpimg.imread(pathToImage + str(index) + '.jpg')\n",
    "    plt.imshow(img, cmap=plt.cm.gray_r,\tinterpolation='nearest')\n",
    "    print('Predicted:', row['y_predict_ann'])\n",
    "    print('Actual:', row['y_test'])\n",
    "    plt.show()"
   ]
  },
  {
   "cell_type": "markdown",
   "metadata": {},
   "source": [
    "# Now,\tI will use\t GridSearchCV to\t find\t the\t best\t number\t of\t neurons\t for\t my\t 1-hidden\t layer\tnetwork.\tI will search\tin\tthe\trange\tof\t50-200\tneurons,\tand\tI will use\tthe\t following\tparameters\t for\tmy\t ANN:\t activation='logistic',\t solver='adam',\t alpha=1e-5,\t random_state=1,\tlearning_rate_init\t=\t0.002."
   ]
  },
  {
   "cell_type": "code",
   "execution_count": 21,
   "metadata": {
    "collapsed": false
   },
   "outputs": [
    {
     "name": "stdout",
     "output_type": "stream",
     "text": [
      "{'hidden_layer_sizes': [(50,), (51,), (52,), (53,), (54,), (55,), (56,), (57,), (58,), (59,), (60,), (61,), (62,), (63,), (64,), (65,), (66,), (67,), (68,), (69,), (70,), (71,), (72,), (73,), (74,), (75,), (76,), (77,), (78,), (79,), (80,), (81,), (82,), (83,), (84,), (85,), (86,), (87,), (88,), (89,), (90,), (91,), (92,), (93,), (94,), (95,), (96,), (97,), (98,), (99,), (100,), (101,), (102,), (103,), (104,), (105,), (106,), (107,), (108,), (109,), (110,), (111,), (112,), (113,), (114,), (115,), (116,), (117,), (118,), (119,), (120,), (121,), (122,), (123,), (124,), (125,), (126,), (127,), (128,), (129,), (130,), (131,), (132,), (133,), (134,), (135,), (136,), (137,), (138,), (139,), (140,), (141,), (142,), (143,), (144,), (145,), (146,), (147,), (148,), (149,), (150,), (151,), (152,), (153,), (154,), (155,), (156,), (157,), (158,), (159,), (160,), (161,), (162,), (163,), (164,), (165,), (166,), (167,), (168,), (169,), (170,), (171,), (172,), (173,), (174,), (175,), (176,), (177,), (178,), (179,), (180,), (181,), (182,), (183,), (184,), (185,), (186,), (187,), (188,), (189,), (190,), (191,), (192,), (193,), (194,), (195,), (196,), (197,), (198,), (199,), (200,)]} \n",
      "\n",
      "Wall time: 1h 13min 22s\n",
      "BEST SCORE: 0.9582637729549248\n",
      "BEST Number of Neurons: {'hidden_layer_sizes': (146,)}\n"
     ]
    }
   ],
   "source": [
    "# define a range for the \"number of neurons\" in the hidden layer for a network with 1 hidden layer:\n",
    "neuron_number = [(i,) for i in range(50,201)]\n",
    "\n",
    "# create a dictionary for grid parameter:\n",
    "param_grid = dict(hidden_layer_sizes = neuron_number)\n",
    "print(param_grid,'\\n')\n",
    "\n",
    "# instantiate the model:\n",
    "my_ANN = MLPClassifier(activation='logistic', solver='adam', \n",
    "                                         alpha=1e-5, random_state=1, \n",
    "                                           learning_rate_init = 0.002)\n",
    "\n",
    "# creat the grid, and define the metric for evaluating the model: \n",
    "grid = GridSearchCV(my_ANN, param_grid, cv=10, scoring='accuracy', n_jobs=8)\n",
    "\n",
    "# fit the grid (start the grid search):\n",
    "%time grid.fit(X, y)\n",
    "\n",
    "# view the results:\n",
    "#print(grid.cv_results_)\n",
    "\n",
    "# view the best results corresponding to the best structure of ANN:\n",
    "print('BEST SCORE:', grid.best_score_)\n",
    "print('BEST Number of Neurons:', grid.best_params_)"
   ]
  }
 ],
 "metadata": {
  "anaconda-cloud": {},
  "kernelspec": {
   "display_name": "Python [conda root]",
   "language": "python",
   "name": "conda-root-py"
  },
  "language_info": {
   "codemirror_mode": {
    "name": "ipython",
    "version": 3
   },
   "file_extension": ".py",
   "mimetype": "text/x-python",
   "name": "python",
   "nbconvert_exporter": "python",
   "pygments_lexer": "ipython3",
   "version": "3.5.2"
  }
 },
 "nbformat": 4,
 "nbformat_minor": 1
}
